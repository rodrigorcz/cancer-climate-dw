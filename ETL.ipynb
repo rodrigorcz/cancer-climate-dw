{
 "cells": [
  {
   "cell_type": "markdown",
   "id": "6ba8cbc5",
   "metadata": {},
   "source": [
    "# 1 Definição da Constelação de Fatos\n",
    "\n",
    "**Tabelas de dimensão**\n",
    "\n",
    "- data (dataPK, dataCompleta, dataDia, dataMes, dataSemestre, dataAno)\n",
    "- localidade (localidadePk, latitude, longitude, cidade, estado, região, país)\n",
    "- tipo-cancer (tipoCancerPK, tipoCancer, mortalidade, taxaIncidenciTotal)\n",
    "- faixa-etaria (faixaPK, faixaIdade, idadeMin, idadeMax)\n",
    "- sexo (sexoPK, sexo)\n",
    "\n",
    "**Tabelas de fatos**\n",
    "- cancer (dataPK, localidadePK, tipoCancerPK, sexoPK, faixaPK, casoConfirmados, obitosConfirmados)\n",
    "- clima (dataPK, localidadePK, temperaturaMedia, temperaturaMax, temperaturaMin, radiacaoUV, radiacaoUVA, radiacaoUVB, precipitacao)"
   ]
  },
  {
   "cell_type": "code",
   "execution_count": 52,
   "id": "6a96bd58",
   "metadata": {},
   "outputs": [],
   "source": [
    "import pandas as pd\n",
    "import numpy as np\n",
    "from pyspark.sql import SparkSession\n",
    "from pyspark.sql.functions import col, lit, expr, to_date\n",
    "from pyspark.sql import functions as F\n",
    "\n",
    "# Python 3.11\n",
    "# Java 11\n",
    "# PySpark == 3.3.2"
   ]
  },
  {
   "cell_type": "code",
   "execution_count": 53,
   "id": "f4eaecfd",
   "metadata": {},
   "outputs": [
    {
     "name": "stdout",
     "output_type": "stream",
     "text": [
      "3.3.2\n"
     ]
    }
   ],
   "source": [
    "spark = SparkSession.builder \\\n",
    "    .appName(\"OLAP - P2\") \\\n",
    "    .config(\"spark.jars.packages\",\n",
    "            \"org.apache.hadoop:hadoop-aws:3.3.2,\"\n",
    "            \"com.amazonaws:aws-java-sdk-bundle:1.11.1026\") \\\n",
    "    .config(\"spark.hadoop.fs.s3a.endpoint\", \"http://localhost:9000\") \\\n",
    "    .config(\"spark.hadoop.fs.s3a.access.key\", \"minioadmin\") \\\n",
    "    .config(\"spark.hadoop.fs.s3a.secret.key\", \"minioadmin\") \\\n",
    "    .config(\"spark.hadoop.fs.s3a.path.style.access\", \"true\") \\\n",
    "    .config(\"spark.hadoop.fs.s3a.impl\", \"org.apache.hadoop.fs.s3a.S3AFileSystem\") \\\n",
    "    .config(\"spark.hadoop.fs.s3a.connection.ssl.enabled\", \"false\") \\\n",
    "    .getOrCreate()\n",
    "\n",
    "print(spark.version)"
   ]
  },
  {
   "cell_type": "markdown",
   "id": "4b264e8c",
   "metadata": {},
   "source": [
    "## Extract"
   ]
  },
  {
   "cell_type": "code",
   "execution_count": 54,
   "id": "bc5bd568",
   "metadata": {},
   "outputs": [
    {
     "name": "stderr",
     "output_type": "stream",
     "text": [
      "                                                                                \r"
     ]
    },
    {
     "name": "stdout",
     "output_type": "stream",
     "text": [
      "Numero de Tuplas:  789264\n",
      "+----------+------------+-----------+-------------+------+---------+------+-----------+--------+--------------------+---------+-----------+----+--------------------+--------------------+--------------------+\n",
      "|measure_id|measure_name|location_id|location_name|sex_id| sex_name|age_id|   age_name|cause_id|          cause_name|metric_id|metric_name|year|                 val|               upper|               lower|\n",
      "+----------+------------+-----------+-------------+------+---------+------+-----------+--------+--------------------+---------+-----------+----+--------------------+--------------------+--------------------+\n",
      "|         1|      Óbitos|       4750|         Acre|     1|Masculino|     8|15 -19 anos|     459|Melanoma maligno ...|        1|     Número|2001|0.008899466563112322|0.010069127561452958|0.007914220987606399|\n",
      "|         1|      Óbitos|       4750|         Acre|     2| Feminino|     8|15 -19 anos|     459|Melanoma maligno ...|        1|     Número|2001|0.009592002982904217|0.011051250202974794|0.008177013295675791|\n",
      "|         1|      Óbitos|       4750|         Acre|     1|Masculino|     8|15 -19 anos|     459|Melanoma maligno ...|        2| Percentual|2001|1.576140643633812...|1.791863066239865...|1.418184424328266E-4|\n",
      "|         1|      Óbitos|       4750|         Acre|     2| Feminino|     8|15 -19 anos|     459|Melanoma maligno ...|        2| Percentual|2001|4.640188377796895...|5.359686937154133E-4|4.026491116728918E-4|\n",
      "|         1|      Óbitos|       4750|         Acre|     1|Masculino|     8|15 -19 anos|     459|Melanoma maligno ...|        3|       Taxa|2001|0.025216342325719402|0.028530537837330533|0.022424681777228145|\n",
      "|         1|      Óbitos|       4750|         Acre|     2| Feminino|     8|15 -19 anos|     459|Melanoma maligno ...|        3|       Taxa|2001|0.027570685724374745|0.031765059576263646| 0.02350352310574991|\n",
      "|         1|      Óbitos|       4750|         Acre|     1|Masculino|     9| 20-24 anos|     459|Melanoma maligno ...|        1|     Número|2001| 0.02052042070295816| 0.02387929300585415| 0.01767083483120663|\n",
      "|         1|      Óbitos|       4750|         Acre|     2| Feminino|     9| 20-24 anos|     459|Melanoma maligno ...|        1|     Número|2001|0.019254247306533096|0.023405862474773532|0.016130013804970356|\n",
      "|         1|      Óbitos|       4750|         Acre|     1|Masculino|     9| 20-24 anos|     459|Melanoma maligno ...|        2| Percentual|2001|2.637725130627333...| 3.03596904736377E-4|2.295940299121012...|\n",
      "|         1|      Óbitos|       4750|         Acre|     2| Feminino|     9| 20-24 anos|     459|Melanoma maligno ...|        2| Percentual|2001| 8.02737404020233E-4|9.572219562336879E-4|6.779750004241739E-4|\n",
      "|         1|      Óbitos|       4750|         Acre|     1|Masculino|     9| 20-24 anos|     459|Melanoma maligno ...|        3|       Taxa|2001| 0.06719211112468285| 0.07819041005318732| 0.05786142081741961|\n",
      "|         1|      Óbitos|       4750|         Acre|     2| Feminino|     9| 20-24 anos|     459|Melanoma maligno ...|        3|       Taxa|2001| 0.06315532292665145| 0.07677292077107335| 0.05290761121150655|\n",
      "|         1|      Óbitos|       4750|         Acre|     1|Masculino|    10| 25-29 anos|     459|Melanoma maligno ...|        1|     Número|2001|0.026332750661537452|0.030353561695708443|0.022836879811508448|\n",
      "|         1|      Óbitos|       4750|         Acre|     2| Feminino|    10| 25-29 anos|     459|Melanoma maligno ...|        1|     Número|2001|0.029773540231952972|0.034940983583168696| 0.02512693215926618|\n",
      "|         1|      Óbitos|       4750|         Acre|     1|Masculino|    10| 25-29 anos|     459|Melanoma maligno ...|        2| Percentual|2001|4.116373440769867...|4.735680625113427E-4|3.550179988779466E-4|\n",
      "|         1|      Óbitos|       4750|         Acre|     2| Feminino|    10| 25-29 anos|     459|Melanoma maligno ...|        2| Percentual|2001|0.001116854700325...|0.001310974945484...|9.443282381787275E-4|\n",
      "|         1|      Óbitos|       4750|         Acre|     1|Masculino|    10| 25-29 anos|     459|Melanoma maligno ...|        3|       Taxa|2001| 0.11027708709240275| 0.12711556075953157| 0.09563697375416584|\n",
      "|         1|      Óbitos|       4750|         Acre|     2| Feminino|    10| 25-29 anos|     459|Melanoma maligno ...|        3|       Taxa|2001| 0.12210456491551495| 0.14329681874929343|  0.1030483138742149|\n",
      "|         1|      Óbitos|       4750|         Acre|     1|Masculino|    11| 30-34 anos|     459|Melanoma maligno ...|        1|     Número|2001| 0.05033789776155121|0.056812437398297645|0.043816549633100825|\n",
      "|         1|      Óbitos|       4750|         Acre|     2| Feminino|    11| 30-34 anos|     459|Melanoma maligno ...|        1|     Número|2001| 0.03719504748090307| 0.04456051125727566|0.031952078710672537|\n",
      "+----------+------------+-----------+-------------+------+---------+------+-----------+--------+--------------------+---------+-----------+----+--------------------+--------------------+--------------------+\n",
      "only showing top 20 rows\n",
      "\n"
     ]
    }
   ],
   "source": [
    "df_cancer1 = spark.read.csv(\"s3a://datalake/cancer-1.csv\", header=True, inferSchema=True)\n",
    "df_cancer2 = spark.read.csv(\"s3a://datalake/cancer-2.csv\", header=True, inferSchema=True)\n",
    "df_cancer = df_cancer1.union(df_cancer2)\n",
    "\n",
    "print(\"Numero de Tuplas: \", df_cancer.count())\n",
    "df_cancer.show()"
   ]
  },
  {
   "cell_type": "code",
   "execution_count": 55,
   "id": "c4877af8",
   "metadata": {},
   "outputs": [
    {
     "name": "stderr",
     "output_type": "stream",
     "text": [
      "[Stage 304:====================================================>  (24 + 1) / 25]\r"
     ]
    },
    {
     "name": "stdout",
     "output_type": "stream",
     "text": [
      "Numero de Tuplas:  42721900\n",
      "+---------------+--------+---------+----+---+-----+-------+-------+-------------------+--------------+--------------+-----------+\n",
      "|         cidade|latitude|longitude|YEAR|DOY|  T2M|T2M_MAX|T2M_MIN|ALLSKY_SFC_UV_INDEX|ALLSKY_SFC_UVA|ALLSKY_SFC_UVB|PRECTOTCORR|\n",
      "+---------------+--------+---------+----+---+-----+-------+-------+-------------------+--------------+--------------+-----------+\n",
      "|Abadia de Goiás|-16.7573| -49.4412|2001|  1|23.12|  26.25|  20.85|               2.29|           1.2|          0.04|      10.58|\n",
      "|Abadia de Goiás|-16.7573| -49.4412|2001|  2|21.86|  24.46|  19.76|               1.95|          1.05|          0.03|        4.7|\n",
      "|Abadia de Goiás|-16.7573| -49.4412|2001|  3|21.72|  25.39|  18.91|               2.27|           1.2|          0.04|        4.3|\n",
      "|Abadia de Goiás|-16.7573| -49.4412|2001|  4|23.14|  27.84|   18.3|               1.81|          0.95|          0.03|       1.72|\n",
      "|Abadia de Goiás|-16.7573| -49.4412|2001|  5|23.18|  29.38|  17.65|               3.03|          1.65|          0.05|       1.83|\n",
      "|Abadia de Goiás|-16.7573| -49.4412|2001|  6|23.87|   29.6|  17.32|               3.25|          1.77|          0.05|       1.36|\n",
      "|Abadia de Goiás|-16.7573| -49.4412|2001|  7|23.66|  28.56|  18.69|               2.98|          1.65|          0.05|      18.44|\n",
      "|Abadia de Goiás|-16.7573| -49.4412|2001|  8|22.67|  26.36|  19.35|               1.93|          1.02|          0.03|      10.83|\n",
      "|Abadia de Goiás|-16.7573| -49.4412|2001|  9|22.88|  26.02|  20.17|               2.81|           1.5|          0.05|       5.35|\n",
      "|Abadia de Goiás|-16.7573| -49.4412|2001| 10|23.73|  28.68|  19.22|               2.67|          1.49|          0.04|       3.85|\n",
      "|Abadia de Goiás|-16.7573| -49.4412|2001| 11|21.46|  25.64|  17.72|               1.93|          1.07|          0.03|       4.05|\n",
      "|Abadia de Goiás|-16.7573| -49.4412|2001| 12|22.58|  27.68|  17.29|               2.12|          1.09|          0.04|        6.4|\n",
      "|Abadia de Goiás|-16.7573| -49.4412|2001| 13|23.26|  28.17|   18.1|               3.08|          1.66|          0.05|       2.55|\n",
      "|Abadia de Goiás|-16.7573| -49.4412|2001| 14|23.03|  28.11|  18.37|               2.92|          1.59|          0.05|       1.48|\n",
      "|Abadia de Goiás|-16.7573| -49.4412|2001| 15|22.61|  26.87|  18.45|               3.13|           1.7|          0.05|       0.26|\n",
      "|Abadia de Goiás|-16.7573| -49.4412|2001| 16|22.85|  28.94|  16.76|               3.31|          1.78|          0.05|       0.03|\n",
      "|Abadia de Goiás|-16.7573| -49.4412|2001| 17|21.73|  26.03|  16.62|               2.97|          1.59|          0.05|       6.85|\n",
      "|Abadia de Goiás|-16.7573| -49.4412|2001| 18|23.08|  29.12|   17.4|               3.04|          1.61|          0.05|       0.01|\n",
      "|Abadia de Goiás|-16.7573| -49.4412|2001| 19|23.72|  29.35|  17.92|               2.87|          1.45|          0.05|       0.43|\n",
      "|Abadia de Goiás|-16.7573| -49.4412|2001| 20|24.27|  28.82|   19.7|               3.11|          1.65|          0.05|       2.01|\n",
      "+---------------+--------+---------+----+---+-----+-------+-------+-------------------+--------------+--------------+-----------+\n",
      "only showing top 20 rows\n",
      "\n"
     ]
    },
    {
     "name": "stderr",
     "output_type": "stream",
     "text": [
      "                                                                                \r"
     ]
    }
   ],
   "source": [
    "df_clima = spark.read.csv(\"s3a://datalake/climate.csv\", header=True, inferSchema=True)\n",
    "\n",
    "print(\"Numero de Tuplas: \", df_clima.count())\n",
    "df_clima.show()"
   ]
  },
  {
   "cell_type": "markdown",
   "id": "8ab2a53f",
   "metadata": {},
   "source": [
    "## Transform"
   ]
  },
  {
   "cell_type": "code",
   "execution_count": null,
   "id": "cde7c5bf",
   "metadata": {},
   "outputs": [
    {
     "name": "stderr",
     "output_type": "stream",
     "text": [
      "                                                                                \r"
     ]
    },
    {
     "name": "stdout",
     "output_type": "stream",
     "text": [
      "Numero de Tuplas:  7670\n"
     ]
    },
    {
     "name": "stderr",
     "output_type": "stream",
     "text": [
      "[Stage 314:==================================================>    (23 + 2) / 25]\r"
     ]
    },
    {
     "name": "stdout",
     "output_type": "stream",
     "text": [
      "+------------+-------+-------+------------+-------+------+\n",
      "|dataCompleta|dataDia|dataMes|dataSemestre|dataAno|dataPK|\n",
      "+------------+-------+-------+------------+-------+------+\n",
      "|  2001-07-27|     27|      7|           1|   2001|     0|\n",
      "|  2001-10-27|     27|     10|           1|   2001|     1|\n",
      "|  2002-02-08|      8|      2|           0|   2002|     2|\n",
      "|  2002-03-06|      6|      3|           0|   2002|     3|\n",
      "|  2002-06-15|     15|      6|           0|   2002|     4|\n",
      "|  2002-08-11|     11|      8|           1|   2002|     5|\n",
      "|  2002-09-08|      8|      9|           1|   2002|     6|\n",
      "|  2003-03-30|     30|      3|           0|   2003|     7|\n",
      "|  2003-07-07|      7|      7|           1|   2003|     8|\n",
      "|  2003-08-23|     23|      8|           1|   2003|     9|\n",
      "|  2004-03-09|      9|      3|           0|   2004|    10|\n",
      "|  2005-12-10|     10|     12|           1|   2005|    11|\n",
      "|  2006-02-14|     14|      2|           0|   2006|    12|\n",
      "|  2006-08-24|     24|      8|           1|   2006|    13|\n",
      "|  2006-10-20|     20|     10|           1|   2006|    14|\n",
      "|  2007-01-15|     15|      1|           0|   2007|    15|\n",
      "|  2007-05-10|     10|      5|           0|   2007|    16|\n",
      "|  2007-05-18|     18|      5|           0|   2007|    17|\n",
      "|  2009-05-01|      1|      5|           0|   2009|    18|\n",
      "|  2009-08-05|      5|      8|           1|   2009|    19|\n",
      "+------------+-------+-------+------------+-------+------+\n",
      "only showing top 20 rows\n",
      "\n"
     ]
    },
    {
     "name": "stderr",
     "output_type": "stream",
     "text": [
      "                                                                                \r"
     ]
    }
   ],
   "source": [
    "df_data = df_clima.withColumn(\n",
    "    \"dataCompleta\",\n",
    "    expr(\"date_add(to_date(concat(YEAR, '-01-01')), DOY - 1)\")\n",
    ").select(\n",
    "    \"dataCompleta\",\n",
    "    F.dayofmonth(\"dataCompleta\").alias(\"dataDia\"),\n",
    "    F.month(\"dataCompleta\").alias(\"dataMes\"),\n",
    "    ((F.month(\"dataCompleta\")-1)/ 6).cast(\"int\").alias(\"dataSemestre\"),\n",
    "    F.year(\"dataCompleta\").alias(\"dataAno\")\n",
    ").distinct()\n",
    "\n",
    "# criar chave artificial\n",
    "df_data = df_data.withColumn(\"dataPK\", F.monotonically_increasing_id())\n",
    "\n",
    "df_data = df_data.select(\"dataPK\", \"dataCompleta\", \"dataDia\", \"dataMes\", \"dataSemestre\", \"dataAno\")\n",
    "\n",
    "print(\"Numero de Tuplas: \", df_data.count())\n",
    "df_data.show()"
   ]
  },
  {
   "cell_type": "code",
   "execution_count": 75,
   "id": "cc003b84",
   "metadata": {},
   "outputs": [
    {
     "name": "stderr",
     "output_type": "stream",
     "text": [
      "                                                                                \r"
     ]
    },
    {
     "name": "stdout",
     "output_type": "stream",
     "text": [
      "Numero de Tuplas:  9339\n"
     ]
    },
    {
     "name": "stderr",
     "output_type": "stream",
     "text": [
      "                                                                                \r"
     ]
    },
    {
     "name": "stdout",
     "output_type": "stream",
     "text": [
      "+------------+--------+---------+--------------------+-------------------+--------+------+\n",
      "|localidadePK|latitude|longitude|cidade              |estado             |regiao  |pais  |\n",
      "+------------+--------+---------+--------------------+-------------------+--------+------+\n",
      "|0           |-12.1335|-38.4208 |Alagoinhas          |Bahia              |Nordeste|Brasil|\n",
      "|1           |-11.5706|-47.1792 |Almas               |Tocantins          |Norte   |Brasil|\n",
      "|2           |-8.7061 |-35.5263 |Água Preta          |Pernambuco         |Nordeste|Brasil|\n",
      "|3           |-6.9466 |-35.5332 |Alagoinha           |Paraíba            |Nordeste|Brasil|\n",
      "|4           |-6.9466 |-35.5332 |Alagoinha           |Rio Grande do Norte|Nordeste|Brasil|\n",
      "|5           |-27.4333|-51.9044 |Alto Bela Vista     |Rio Grande do Sul  |Sul     |Brasil|\n",
      "|6           |-27.4333|-51.9044 |Alto Bela Vista     |Santa Catarina     |Sul     |Brasil|\n",
      "|7           |-13.2488|-41.6619 |Abaíra              |Bahia              |Nordeste|Brasil|\n",
      "|8           |-21.2325|-49.6451 |Adolfo              |Minas Gerais       |Sudeste |Brasil|\n",
      "|9           |-21.2325|-49.6451 |Adolfo              |São Paulo          |Sudeste |Brasil|\n",
      "|10          |-20.9439|-45.3915 |Aguanil             |Minas Gerais       |Sudeste |Brasil|\n",
      "|11          |-20.9439|-45.3915 |Aguanil             |São Paulo          |Sudeste |Brasil|\n",
      "|12          |-21.0214|-47.3712 |Altinópolis         |Minas Gerais       |Sudeste |Brasil|\n",
      "|13          |-21.0214|-47.3712 |Altinópolis         |São Paulo          |Sudeste |Brasil|\n",
      "|14          |-5.5691 |-46.7473 |Amarante do Maranhão|Tocantins          |Norte   |Brasil|\n",
      "|15          |-1.9538 |-48.1985 |Acará               |Pará               |Norte   |Brasil|\n",
      "|16          |-9.262  |-37.938  |Água Branca         |Alagoas            |Nordeste|Brasil|\n",
      "|17          |-9.262  |-37.938  |Água Branca         |Bahia              |Nordeste|Brasil|\n",
      "|18          |-9.262  |-37.938  |Água Branca         |Pernambuco         |Nordeste|Brasil|\n",
      "|19          |-22.7088|-46.772  |Amparo              |Minas Gerais       |Sudeste |Brasil|\n",
      "+------------+--------+---------+--------------------+-------------------+--------+------+\n",
      "only showing top 20 rows\n",
      "\n"
     ]
    }
   ],
   "source": [
    "df_localidade = (\n",
    "    df_clima.select(\"cidade\", \"latitude\", \"longitude\")\n",
    "            .distinct()\n",
    "            .join(\n",
    "                spark.read.csv(\"s3a://datalake/estado-bounding.csv\", header=True, inferSchema=True),\n",
    "                (F.col(\"latitude\").between(F.col(\"lat_min\"), F.col(\"lat_max\"))) &\n",
    "                (F.col(\"longitude\").between(F.col(\"lon_min\"), F.col(\"lon_max\"))),\n",
    "                how=\"left\"\n",
    "            )\n",
    "            .withColumn(\"localidadePK\", F.monotonically_increasing_id())\n",
    "            .select(\"localidadePK\", \"latitude\", \"longitude\", \"cidade\", \"estado\", \"regiao\", \"pais\")\n",
    ")\n",
    "\n",
    "print(\"Numero de Tuplas: \", df_localidade.count())\n",
    "df_localidade.show(truncate=False)"
   ]
  },
  {
   "cell_type": "code",
   "execution_count": null,
   "id": "30ab8fb3",
   "metadata": {},
   "outputs": [
    {
     "name": "stderr",
     "output_type": "stream",
     "text": [
      "                                                                                \r"
     ]
    },
    {
     "name": "stdout",
     "output_type": "stream",
     "text": [
      "Numero de Tuplas:  2\n"
     ]
    },
    {
     "name": "stderr",
     "output_type": "stream",
     "text": [
      "[Stage 198:======================================>                  (4 + 2) / 6]\r"
     ]
    },
    {
     "name": "stdout",
     "output_type": "stream",
     "text": [
      "+---------+------+\n",
      "|     sexo|sexoPK|\n",
      "+---------+------+\n",
      "| Feminino|     0|\n",
      "|Masculino|     1|\n",
      "+---------+------+\n",
      "\n"
     ]
    },
    {
     "name": "stderr",
     "output_type": "stream",
     "text": [
      "                                                                                \r"
     ]
    }
   ],
   "source": [
    "df_sexo = df_cancer.select(\n",
    "    F.col(\"sex_name\").alias(\"sexo\")\n",
    ").distinct()\n",
    "\n",
    "df_sexo = df_sexo.withColumn(\"sexoPK\", F.monotonically_increasing_id())\n",
    "\n",
    "print(\"Numero de Tuplas: \", df_sexo.count())\n",
    "df_sexo.show()"
   ]
  },
  {
   "cell_type": "code",
   "execution_count": null,
   "id": "846bd15d",
   "metadata": {},
   "outputs": [
    {
     "name": "stderr",
     "output_type": "stream",
     "text": [
      "                                                                                \r"
     ]
    },
    {
     "name": "stdout",
     "output_type": "stream",
     "text": [
      "Numero de Tuplas:  3\n"
     ]
    },
    {
     "name": "stderr",
     "output_type": "stream",
     "text": [
      "[Stage 376:============================>                            (3 + 3) / 6]\r"
     ]
    },
    {
     "name": "stdout",
     "output_type": "stream",
     "text": [
      "+------------+------------------------------------------------------------+-----------+-------------------+\n",
      "|tipoCancerPK|tipoCancer                                                  |mortalidade|taxaIncidenciaTotal|\n",
      "+------------+------------------------------------------------------------+-----------+-------------------+\n",
      "|0           |Câncer de pele não melanoma (carcinoma basocelular)         |0.0        |89.55              |\n",
      "|1           |Melanoma maligno da pele                                    |35.94      |3.52               |\n",
      "|2           |Câncer de pele não melanoma (carcinoma de células escamosas)|23.84      |4.57               |\n",
      "+------------+------------------------------------------------------------+-----------+-------------------+\n",
      "\n"
     ]
    },
    {
     "name": "stderr",
     "output_type": "stream",
     "text": [
      "                                                                                \r"
     ]
    }
   ],
   "source": [
    "total_casos = df_cancer.filter(F.col(\"metric_name\") == \"Número\") \\\n",
    "    .agg(F.sum(\"val\").alias(\"total_casos_geral\")) \\\n",
    "    .collect()[0][\"total_casos_geral\"]\n",
    "\n",
    "df_tipo_cancer = (\n",
    "    df_cancer.filter(F.col(\"metric_name\") == \"Número\") \n",
    "            .groupBy(\"cause_name\")\n",
    "            .agg(\n",
    "                F.sum(F.when(F.col(\"measure_name\") == \"Óbitos\", F.col(\"val\")).otherwise(0)).alias(\"total_obitos\"),\n",
    "                F.sum(F.when(F.col(\"measure_name\") != \"Óbitos\", F.col(\"val\")).otherwise(0)).alias(\"total_casos\")\n",
    "            ) \n",
    "            .withColumn(\n",
    "                \"mortalidade\",\n",
    "                F.round(F.when(F.col(\"total_casos\") > 0, (F.col(\"total_obitos\") / F.col(\"total_casos\")) * 100).otherwise(0),2)\n",
    "            ) \n",
    "            .withColumn(\n",
    "                \"taxaIncidenciaTotal\",\n",
    "                F.round((F.col(\"total_casos\") / F.lit(total_casos)) * 100, 2)\n",
    "            ) \n",
    "            .withColumn(\n",
    "                \"tipoCancerPK\",\n",
    "                F.monotonically_increasing_id()\n",
    "            ) \n",
    "            .select(\n",
    "                \"tipoCancerPK\",\n",
    "                F.col(\"cause_name\").alias(\"tipoCancer\"),\n",
    "                \"mortalidade\",\n",
    "                \"taxaIncidenciaTotal\"\n",
    "            )\n",
    ")\n",
    "\n",
    "print(\"Numero de Tuplas: \", df_tipo_cancer.count())\n",
    "df_tipo_cancer.show(truncate=False)"
   ]
  },
  {
   "cell_type": "code",
   "execution_count": null,
   "id": "4bfd1a24",
   "metadata": {},
   "outputs": [
    {
     "name": "stderr",
     "output_type": "stream",
     "text": [
      "                                                                                \r"
     ]
    },
    {
     "name": "stdout",
     "output_type": "stream",
     "text": [
      "Numero de Tuplas:  30\n"
     ]
    },
    {
     "name": "stderr",
     "output_type": "stream",
     "text": [
      "[Stage 388:============================>                            (3 + 3) / 6]\r"
     ]
    },
    {
     "name": "stdout",
     "output_type": "stream",
     "text": [
      "+-------+-----------+--------+--------+\n",
      "|faixaPK|faixaEtaria|idadeMin|idadeMax|\n",
      "+-------+-----------+--------+--------+\n",
      "|      0|      20-54|      20|      54|\n",
      "|      1|      35-39|      35|      39|\n",
      "|      2|      75-84|      75|      84|\n",
      "|      3|        95+|      95|     130|\n",
      "|      4|      85-89|      85|      89|\n",
      "|      5|      10-14|      10|      14|\n",
      "|      6|      15-19|      15|      19|\n",
      "|      7|      80-84|      80|      84|\n",
      "|      8|      45-49|      45|      49|\n",
      "|      9|      15-49|      15|      49|\n",
      "|     10|      50-69|      50|      69|\n",
      "|     11|      40-44|      40|      44|\n",
      "|     12|      20-24|      20|      24|\n",
      "|     13|      10-54|      10|      54|\n",
      "|     14|      10-24|      10|      24|\n",
      "|     15|      75-79|      75|      79|\n",
      "|     16|      50-54|      50|      54|\n",
      "|     17|      90-94|      90|      94|\n",
      "|     18|        5-9|       5|       9|\n",
      "|     19|      60-64|      60|      64|\n",
      "+-------+-----------+--------+--------+\n",
      "only showing top 20 rows\n",
      "\n"
     ]
    },
    {
     "name": "stderr",
     "output_type": "stream",
     "text": [
      "                                                                                \r"
     ]
    }
   ],
   "source": [
    "df_faixa_etaria = (\n",
    "    df_cancer.select(F.col(\"age_name\").alias(\"faixaEtaria\"))\n",
    "            .distinct()\n",
    "            .withColumn(\n",
    "                \"faixaEtaria\",\n",
    "                F.regexp_replace(F.regexp_replace(F.col(\"faixaEtaria\"), \"anos\", \"\"), \" \", \"\")\n",
    "            )\n",
    "            .withColumn(\n",
    "                \"idadeMin\",\n",
    "                F.when(\n",
    "                    F.col(\"faixaEtaria\").contains(\"+\"),\n",
    "                    F.regexp_replace(F.col(\"faixaEtaria\"), \"[^0-9]\", \"\").cast(\"int\")\n",
    "                ).otherwise(\n",
    "                    F.split(F.col(\"faixaEtaria\"), \"-\")[0].cast(\"int\")\n",
    "                )\n",
    "            )\n",
    "            .withColumn(\n",
    "                \"idadeMax\",\n",
    "                F.when(\n",
    "                    F.col(\"faixaEtaria\").contains(\"+\"),\n",
    "                    F.lit(130) \n",
    "                ).otherwise(\n",
    "                    F.split(F.col(\"faixaEtaria\"), \"-\")[1].cast(\"int\")\n",
    "                )\n",
    "            )\n",
    "            .withColumn(\"faixaPK\", F.monotonically_increasing_id())\n",
    "            .select(\"faixaPK\", \"faixaEtaria\", \"idadeMin\", \"idadeMax\")\n",
    ")\n",
    "\n",
    "print(\"Numero de Tuplas: \", df_faixa_etaria.count())\n",
    "df_faixa_etaria.show()"
   ]
  }
 ],
 "metadata": {
  "kernelspec": {
   "display_name": "Python 3",
   "language": "python",
   "name": "python3"
  },
  "language_info": {
   "codemirror_mode": {
    "name": "ipython",
    "version": 3
   },
   "file_extension": ".py",
   "mimetype": "text/x-python",
   "name": "python",
   "nbconvert_exporter": "python",
   "pygments_lexer": "ipython3",
   "version": "3.11.10"
  }
 },
 "nbformat": 4,
 "nbformat_minor": 5
}
