{
 "cells": [
  {
   "cell_type": "markdown",
   "id": "344869a8",
   "metadata": {},
   "source": [
    "Observações Iniciais:\n",
    "\n",
    "- Na tabela de Cancer tem algumas faixas etarias de determinados estados que não tem valor (estão como 0 na tabela)\n",
    "- Alguns municipios não possuem dados completos do clima para todos os anos\n",
    "\n",
    "Transformações Necessarias Observadas:\n",
    "\n",
    "- Clima\n",
    "    - Localidade: Tem apenas o nome da cidade e coordenada, terá que preencher o Estado, Pais e Região\n",
    "    - Data: Tem apenas o ano e o dia, terá que preencher Decada, Mês\n",
    "\n",
    "- Cancer\n",
    "    - Localidade: Tem apenas o nome do Estado, terá que preencher Região e Pais. "
   ]
  },
  {
   "cell_type": "code",
   "execution_count": 1,
   "id": "6a96bd58",
   "metadata": {},
   "outputs": [],
   "source": [
    "import pandas as pd\n",
    "import numpy as np\n",
    "from pyspark.sql import SparkSession\n",
    "\n",
    "# Python 3.11\n",
    "# Java 11\n",
    "# PySpark == 3.3.2"
   ]
  },
  {
   "cell_type": "code",
   "execution_count": 2,
   "id": "f4eaecfd",
   "metadata": {},
   "outputs": [
    {
     "name": "stdout",
     "output_type": "stream",
     "text": [
      ":: loading settings :: url = jar:file:/home/rodrigo/.local/lib/python3.11/site-packages/pyspark/jars/ivy-2.5.1.jar!/org/apache/ivy/core/settings/ivysettings.xml\n"
     ]
    },
    {
     "name": "stderr",
     "output_type": "stream",
     "text": [
      "Ivy Default Cache set to: /home/rodrigo/.ivy2/cache\n",
      "The jars for the packages stored in: /home/rodrigo/.ivy2/jars\n",
      "org.apache.hadoop#hadoop-aws added as a dependency\n",
      "com.amazonaws#aws-java-sdk-bundle added as a dependency\n",
      ":: resolving dependencies :: org.apache.spark#spark-submit-parent-9f3a4c1c-95ef-4664-9b88-47f5a8fe21dc;1.0\n",
      "\tconfs: [default]\n",
      "\tfound org.apache.hadoop#hadoop-aws;3.3.2 in central\n",
      "\tfound com.amazonaws#aws-java-sdk-bundle;1.11.1026 in central\n",
      "\tfound org.wildfly.openssl#wildfly-openssl;1.0.7.Final in central\n",
      ":: resolution report :: resolve 395ms :: artifacts dl 7ms\n",
      "\t:: modules in use:\n",
      "\tcom.amazonaws#aws-java-sdk-bundle;1.11.1026 from central in [default]\n",
      "\torg.apache.hadoop#hadoop-aws;3.3.2 from central in [default]\n",
      "\torg.wildfly.openssl#wildfly-openssl;1.0.7.Final from central in [default]\n",
      "\t---------------------------------------------------------------------\n",
      "\t|                  |            modules            ||   artifacts   |\n",
      "\t|       conf       | number| search|dwnlded|evicted|| number|dwnlded|\n",
      "\t---------------------------------------------------------------------\n",
      "\t|      default     |   3   |   0   |   0   |   0   ||   3   |   0   |\n",
      "\t---------------------------------------------------------------------\n",
      ":: retrieving :: org.apache.spark#spark-submit-parent-9f3a4c1c-95ef-4664-9b88-47f5a8fe21dc\n",
      "\tconfs: [default]\n",
      "\t0 artifacts copied, 3 already retrieved (0kB/6ms)\n"
     ]
    },
    {
     "name": "stdout",
     "output_type": "stream",
     "text": [
      "25/06/18 14:30:13 WARN NativeCodeLoader: Unable to load native-hadoop library for your platform... using builtin-java classes where applicable\n"
     ]
    },
    {
     "name": "stderr",
     "output_type": "stream",
     "text": [
      "Setting default log level to \"WARN\".\n",
      "To adjust logging level use sc.setLogLevel(newLevel). For SparkR, use setLogLevel(newLevel).\n"
     ]
    },
    {
     "name": "stdout",
     "output_type": "stream",
     "text": [
      "3.3.2\n"
     ]
    }
   ],
   "source": [
    "spark = SparkSession.builder \\\n",
    "    .appName(\"OLAP - P2\") \\\n",
    "    .config(\"spark.jars.packages\", \"org.apache.hadoop:hadoop-aws:3.3.2,com.amazonaws:aws-java-sdk-bundle:1.11.1026\") \\\n",
    "    .config(\"spark.hadoop.fs.s3a.endpoint\", \"http://localhost:9000\") \\\n",
    "    .config(\"spark.hadoop.fs.s3a.access.key\", \"minioadmin\") \\\n",
    "    .config(\"spark.hadoop.fs.s3a.secret.key\", \"minioadmin\") \\\n",
    "    .config(\"spark.hadoop.fs.s3a.path.style.access\", \"true\") \\\n",
    "    .config(\"spark.hadoop.fs.s3a.impl\", \"org.apache.hadoop.fs.s3a.S3AFileSystem\") \\\n",
    "    .config(\"spark.hadoop.fs.s3a.connection.ssl.enabled\", \"false\") \\\n",
    "    .getOrCreate()\n",
    "    \n",
    "print(spark.version)"
   ]
  },
  {
   "cell_type": "markdown",
   "id": "4b264e8c",
   "metadata": {},
   "source": [
    "## Extract"
   ]
  },
  {
   "cell_type": "code",
   "execution_count": 3,
   "id": "bc5bd568",
   "metadata": {},
   "outputs": [
    {
     "name": "stdout",
     "output_type": "stream",
     "text": [
      "25/06/18 14:30:17 WARN MetricsConfig: Cannot locate configuration: tried hadoop-metrics2-s3a-file-system.properties,hadoop-metrics2.properties\n",
      "25/06/18 14:30:17 WARN BasicProfileConfigLoader: Your profile name includes a 'profile ' prefix. This is considered part of the profile name in the Java SDK, so you will need to include this prefix in your profile name when you reference this profile from your Java code.\n",
      "25/06/18 14:30:17 WARN BasicProfileConfigLoader: Your profile name includes a 'profile ' prefix. This is considered part of the profile name in the Java SDK, so you will need to include this prefix in your profile name when you reference this profile from your Java code.\n",
      "25/06/18 14:30:17 WARN BasicProfileConfigLoader: Your profile name includes a 'profile ' prefix. This is considered part of the profile name in the Java SDK, so you will need to include this prefix in your profile name when you reference this profile from your Java code.\n"
     ]
    },
    {
     "name": "stderr",
     "output_type": "stream",
     "text": [
      "                                                                                \r"
     ]
    },
    {
     "name": "stdout",
     "output_type": "stream",
     "text": [
      "+----------+------------+-----------+-------------+------+---------+------+-----------+--------+--------------------+---------+-----------+----+--------------------+--------------------+--------------------+\n",
      "|measure_id|measure_name|location_id|location_name|sex_id| sex_name|age_id|   age_name|cause_id|          cause_name|metric_id|metric_name|year|                 val|               upper|               lower|\n",
      "+----------+------------+-----------+-------------+------+---------+------+-----------+--------+--------------------+---------+-----------+----+--------------------+--------------------+--------------------+\n",
      "|         1|      Óbitos|       4750|         Acre|     1|Masculino|     8|15 -19 anos|     459|Melanoma maligno ...|        1|     Número|2001|0.008899466563112322|0.010069127561452958|0.007914220987606399|\n",
      "|         1|      Óbitos|       4750|         Acre|     2| Feminino|     8|15 -19 anos|     459|Melanoma maligno ...|        1|     Número|2001|0.009592002982904217|0.011051250202974794|0.008177013295675791|\n",
      "|         1|      Óbitos|       4750|         Acre|     1|Masculino|     8|15 -19 anos|     459|Melanoma maligno ...|        2| Percentual|2001|1.576140643633812...|1.791863066239865...|1.418184424328266E-4|\n",
      "|         1|      Óbitos|       4750|         Acre|     2| Feminino|     8|15 -19 anos|     459|Melanoma maligno ...|        2| Percentual|2001|4.640188377796895...|5.359686937154133E-4|4.026491116728918E-4|\n",
      "|         1|      Óbitos|       4750|         Acre|     1|Masculino|     8|15 -19 anos|     459|Melanoma maligno ...|        3|       Taxa|2001|0.025216342325719402|0.028530537837330533|0.022424681777228145|\n",
      "|         1|      Óbitos|       4750|         Acre|     2| Feminino|     8|15 -19 anos|     459|Melanoma maligno ...|        3|       Taxa|2001|0.027570685724374745|0.031765059576263646| 0.02350352310574991|\n",
      "|         1|      Óbitos|       4750|         Acre|     1|Masculino|     9| 20-24 anos|     459|Melanoma maligno ...|        1|     Número|2001| 0.02052042070295816| 0.02387929300585415| 0.01767083483120663|\n",
      "|         1|      Óbitos|       4750|         Acre|     2| Feminino|     9| 20-24 anos|     459|Melanoma maligno ...|        1|     Número|2001|0.019254247306533096|0.023405862474773532|0.016130013804970356|\n",
      "|         1|      Óbitos|       4750|         Acre|     1|Masculino|     9| 20-24 anos|     459|Melanoma maligno ...|        2| Percentual|2001|2.637725130627333...| 3.03596904736377E-4|2.295940299121012...|\n",
      "|         1|      Óbitos|       4750|         Acre|     2| Feminino|     9| 20-24 anos|     459|Melanoma maligno ...|        2| Percentual|2001| 8.02737404020233E-4|9.572219562336879E-4|6.779750004241739E-4|\n",
      "|         1|      Óbitos|       4750|         Acre|     1|Masculino|     9| 20-24 anos|     459|Melanoma maligno ...|        3|       Taxa|2001| 0.06719211112468285| 0.07819041005318732| 0.05786142081741961|\n",
      "|         1|      Óbitos|       4750|         Acre|     2| Feminino|     9| 20-24 anos|     459|Melanoma maligno ...|        3|       Taxa|2001| 0.06315532292665145| 0.07677292077107335| 0.05290761121150655|\n",
      "|         1|      Óbitos|       4750|         Acre|     1|Masculino|    10| 25-29 anos|     459|Melanoma maligno ...|        1|     Número|2001|0.026332750661537452|0.030353561695708443|0.022836879811508448|\n",
      "|         1|      Óbitos|       4750|         Acre|     2| Feminino|    10| 25-29 anos|     459|Melanoma maligno ...|        1|     Número|2001|0.029773540231952972|0.034940983583168696| 0.02512693215926618|\n",
      "|         1|      Óbitos|       4750|         Acre|     1|Masculino|    10| 25-29 anos|     459|Melanoma maligno ...|        2| Percentual|2001|4.116373440769867...|4.735680625113427E-4|3.550179988779466E-4|\n",
      "|         1|      Óbitos|       4750|         Acre|     2| Feminino|    10| 25-29 anos|     459|Melanoma maligno ...|        2| Percentual|2001|0.001116854700325...|0.001310974945484...|9.443282381787275E-4|\n",
      "|         1|      Óbitos|       4750|         Acre|     1|Masculino|    10| 25-29 anos|     459|Melanoma maligno ...|        3|       Taxa|2001| 0.11027708709240275| 0.12711556075953157| 0.09563697375416584|\n",
      "|         1|      Óbitos|       4750|         Acre|     2| Feminino|    10| 25-29 anos|     459|Melanoma maligno ...|        3|       Taxa|2001| 0.12210456491551495| 0.14329681874929343|  0.1030483138742149|\n",
      "|         1|      Óbitos|       4750|         Acre|     1|Masculino|    11| 30-34 anos|     459|Melanoma maligno ...|        1|     Número|2001| 0.05033789776155121|0.056812437398297645|0.043816549633100825|\n",
      "|         1|      Óbitos|       4750|         Acre|     2| Feminino|    11| 30-34 anos|     459|Melanoma maligno ...|        1|     Número|2001| 0.03719504748090307| 0.04456051125727566|0.031952078710672537|\n",
      "+----------+------------+-----------+-------------+------+---------+------+-----------+--------+--------------------+---------+-----------+----+--------------------+--------------------+--------------------+\n",
      "only showing top 20 rows\n",
      "\n"
     ]
    }
   ],
   "source": [
    "df_cancer = spark.read.csv(\"s3a://datalake/cancer-1.csv\", header=True, inferSchema=True)\n",
    "df_cancer.show()"
   ]
  },
  {
   "cell_type": "code",
   "execution_count": 4,
   "id": "c4877af8",
   "metadata": {},
   "outputs": [
    {
     "name": "stderr",
     "output_type": "stream",
     "text": [
      "                                                                                \r"
     ]
    },
    {
     "name": "stdout",
     "output_type": "stream",
     "text": [
      "+---------------+--------+---------+----+---+-----+-------+-------+-------------------+--------------+--------------+-----------+\n",
      "|         cidade|latitude|longitude|YEAR|DOY|  T2M|T2M_MAX|T2M_MIN|ALLSKY_SFC_UV_INDEX|ALLSKY_SFC_UVA|ALLSKY_SFC_UVB|PRECTOTCORR|\n",
      "+---------------+--------+---------+----+---+-----+-------+-------+-------------------+--------------+--------------+-----------+\n",
      "|Abadia de Goiás|-16.7573| -49.4412|2001|  1|23.12|  26.25|  20.85|               2.29|           1.2|          0.04|      10.58|\n",
      "|Abadia de Goiás|-16.7573| -49.4412|2001|  2|21.86|  24.46|  19.76|               1.95|          1.05|          0.03|        4.7|\n",
      "|Abadia de Goiás|-16.7573| -49.4412|2001|  3|21.72|  25.39|  18.91|               2.27|           1.2|          0.04|        4.3|\n",
      "|Abadia de Goiás|-16.7573| -49.4412|2001|  4|23.14|  27.84|   18.3|               1.81|          0.95|          0.03|       1.72|\n",
      "|Abadia de Goiás|-16.7573| -49.4412|2001|  5|23.18|  29.38|  17.65|               3.03|          1.65|          0.05|       1.83|\n",
      "|Abadia de Goiás|-16.7573| -49.4412|2001|  6|23.87|   29.6|  17.32|               3.25|          1.77|          0.05|       1.36|\n",
      "|Abadia de Goiás|-16.7573| -49.4412|2001|  7|23.66|  28.56|  18.69|               2.98|          1.65|          0.05|      18.44|\n",
      "|Abadia de Goiás|-16.7573| -49.4412|2001|  8|22.67|  26.36|  19.35|               1.93|          1.02|          0.03|      10.83|\n",
      "|Abadia de Goiás|-16.7573| -49.4412|2001|  9|22.88|  26.02|  20.17|               2.81|           1.5|          0.05|       5.35|\n",
      "|Abadia de Goiás|-16.7573| -49.4412|2001| 10|23.73|  28.68|  19.22|               2.67|          1.49|          0.04|       3.85|\n",
      "|Abadia de Goiás|-16.7573| -49.4412|2001| 11|21.46|  25.64|  17.72|               1.93|          1.07|          0.03|       4.05|\n",
      "|Abadia de Goiás|-16.7573| -49.4412|2001| 12|22.58|  27.68|  17.29|               2.12|          1.09|          0.04|        6.4|\n",
      "|Abadia de Goiás|-16.7573| -49.4412|2001| 13|23.26|  28.17|   18.1|               3.08|          1.66|          0.05|       2.55|\n",
      "|Abadia de Goiás|-16.7573| -49.4412|2001| 14|23.03|  28.11|  18.37|               2.92|          1.59|          0.05|       1.48|\n",
      "|Abadia de Goiás|-16.7573| -49.4412|2001| 15|22.61|  26.87|  18.45|               3.13|           1.7|          0.05|       0.26|\n",
      "|Abadia de Goiás|-16.7573| -49.4412|2001| 16|22.85|  28.94|  16.76|               3.31|          1.78|          0.05|       0.03|\n",
      "|Abadia de Goiás|-16.7573| -49.4412|2001| 17|21.73|  26.03|  16.62|               2.97|          1.59|          0.05|       6.85|\n",
      "|Abadia de Goiás|-16.7573| -49.4412|2001| 18|23.08|  29.12|   17.4|               3.04|          1.61|          0.05|       0.01|\n",
      "|Abadia de Goiás|-16.7573| -49.4412|2001| 19|23.72|  29.35|  17.92|               2.87|          1.45|          0.05|       0.43|\n",
      "|Abadia de Goiás|-16.7573| -49.4412|2001| 20|24.27|  28.82|   19.7|               3.11|          1.65|          0.05|       2.01|\n",
      "+---------------+--------+---------+----+---+-----+-------+-------+-------------------+--------------+--------------+-----------+\n",
      "only showing top 20 rows\n",
      "\n"
     ]
    }
   ],
   "source": [
    "df_climate = spark.read.csv(\"s3a://datalake/climate.csv\", header=True, inferSchema=True)\n",
    "df_climate.show()"
   ]
  }
 ],
 "metadata": {
  "kernelspec": {
   "display_name": "Python 3",
   "language": "python",
   "name": "python3"
  },
  "language_info": {
   "codemirror_mode": {
    "name": "ipython",
    "version": 3
   },
   "file_extension": ".py",
   "mimetype": "text/x-python",
   "name": "python",
   "nbconvert_exporter": "python",
   "pygments_lexer": "ipython3",
   "version": "3.11.12"
  }
 },
 "nbformat": 4,
 "nbformat_minor": 5
}
