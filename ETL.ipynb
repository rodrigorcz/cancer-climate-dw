{
 "cells": [
  {
   "cell_type": "markdown",
   "id": "344869a8",
   "metadata": {},
   "source": [
    "Observações Iniciais:\n",
    "\n",
    "- Na tabela de Cancer tem algumas faixas etarias de determinados estados que não tem valor (estão como 0 na tabela)\n",
    "- Alguns municipios não possuem dados completos do clima para todos os anos\n",
    "\n",
    "Transformações Necessarias Observadas:\n",
    "\n",
    "- Clima\n",
    "    - Localidade: Tem apenas o nome da cidade e coordenada, terá que preencher o Estado, Pais e Região\n",
    "    - Data: Tem apenas o ano e o dia, terá que preencher Decada, Mês\n",
    "\n",
    "- Cancer\n",
    "    - Localidade: Tem apenas o nome do Estado, terá que preencher Região e Pais. "
   ]
  },
  {
   "cell_type": "code",
   "execution_count": 1,
   "id": "6a96bd58",
   "metadata": {},
   "outputs": [],
   "source": [
    "import pandas as pd\n",
    "import numpy as np"
   ]
  },
  {
   "cell_type": "markdown",
   "id": "4b264e8c",
   "metadata": {},
   "source": [
    "## Extract"
   ]
  },
  {
   "cell_type": "code",
   "execution_count": 4,
   "id": "bc5bd568",
   "metadata": {},
   "outputs": [
    {
     "data": {
      "text/plain": [
       "Index(['measure_id', 'measure_name', 'location_id', 'location_name', 'sex_id',\n",
       "       'sex_name', 'age_id', 'age_name', 'cause_id', 'cause_name', 'metric_id',\n",
       "       'metric_name', 'year', 'val', 'upper', 'lower'],\n",
       "      dtype='object')"
      ]
     },
     "execution_count": 4,
     "metadata": {},
     "output_type": "execute_result"
    }
   ],
   "source": [
    "cancer_1 = pd.read_csv('data/cancer-1.csv')\n",
    "cancer_2 = pd.read_csv('data/cancer-2.csv')\n",
    "\n",
    "cancer_1.columns"
   ]
  },
  {
   "cell_type": "code",
   "execution_count": null,
   "id": "c4877af8",
   "metadata": {},
   "outputs": [],
   "source": [
    "climate = pd.read_csv('data/climate.csv')\n",
    "climate.columns"
   ]
  }
 ],
 "metadata": {
  "kernelspec": {
   "display_name": "Python 3",
   "language": "python",
   "name": "python3"
  },
  "language_info": {
   "codemirror_mode": {
    "name": "ipython",
    "version": 3
   },
   "file_extension": ".py",
   "mimetype": "text/x-python",
   "name": "python",
   "nbconvert_exporter": "python",
   "pygments_lexer": "ipython3",
   "version": "3.13.0"
  }
 },
 "nbformat": 4,
 "nbformat_minor": 5
}
